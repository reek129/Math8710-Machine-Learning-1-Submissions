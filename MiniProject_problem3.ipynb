{
 "cells": [
  {
   "cell_type": "code",
   "execution_count": 2,
   "id": "e4ba45e6",
   "metadata": {},
   "outputs": [],
   "source": [
    "from sklearn.datasets import load_iris\n",
    "import pandas as pd\n",
    "import random\n",
    "import numpy as np\n",
    "import matplotlib.pyplot as plt\n",
    "\n",
    "from sklearn.svm import SVC\n",
    "from sklearn.linear_model import LogisticRegression\n",
    "\n",
    "from sklearn.preprocessing import StandardScaler\n",
    "from sklearn.metrics import confusion_matrix\n",
    "from sklearn.metrics import accuracy_score\n",
    "from sklearn.cluster import KMeans\n",
    "from sklearn.cluster import AgglomerativeClustering\n",
    "from sklearn.model_selection import train_test_split"
   ]
  },
  {
   "cell_type": "code",
   "execution_count": 4,
   "id": "94bc27aa",
   "metadata": {},
   "outputs": [
    {
     "data": {
      "text/plain": [
       "(150, 5)"
      ]
     },
     "execution_count": 4,
     "metadata": {},
     "output_type": "execute_result"
    }
   ],
   "source": [
    "data = load_iris()\n",
    "columns = data.feature_names\n",
    "\n",
    "data2=pd.DataFrame(data.data)\n",
    "data2.columns = columns\n",
    "data2['target'] = data.target\n",
    "data2.shape"
   ]
  },
  {
   "cell_type": "markdown",
   "id": "02d79170",
   "metadata": {},
   "source": [
    "# Spliting data based on target variable greter than 0 for two cases virginica and versicolor"
   ]
  },
  {
   "cell_type": "code",
   "execution_count": 5,
   "id": "2b5b0831",
   "metadata": {},
   "outputs": [
    {
     "data": {
      "text/plain": [
       "(100, 5)"
      ]
     },
     "execution_count": 5,
     "metadata": {},
     "output_type": "execute_result"
    }
   ],
   "source": [
    "data3 = data2[data2.target > 0]\n",
    "data3.shape"
   ]
  },
  {
   "cell_type": "code",
   "execution_count": 6,
   "id": "f94c93b2",
   "metadata": {},
   "outputs": [
    {
     "data": {
      "text/html": [
       "<div>\n",
       "<style scoped>\n",
       "    .dataframe tbody tr th:only-of-type {\n",
       "        vertical-align: middle;\n",
       "    }\n",
       "\n",
       "    .dataframe tbody tr th {\n",
       "        vertical-align: top;\n",
       "    }\n",
       "\n",
       "    .dataframe thead th {\n",
       "        text-align: right;\n",
       "    }\n",
       "</style>\n",
       "<table border=\"1\" class=\"dataframe\">\n",
       "  <thead>\n",
       "    <tr style=\"text-align: right;\">\n",
       "      <th></th>\n",
       "      <th>sepal length (cm)</th>\n",
       "      <th>sepal width (cm)</th>\n",
       "      <th>petal length (cm)</th>\n",
       "      <th>petal width (cm)</th>\n",
       "      <th>target</th>\n",
       "    </tr>\n",
       "  </thead>\n",
       "  <tbody>\n",
       "    <tr>\n",
       "      <th>50</th>\n",
       "      <td>7.0</td>\n",
       "      <td>3.2</td>\n",
       "      <td>4.7</td>\n",
       "      <td>1.4</td>\n",
       "      <td>1</td>\n",
       "    </tr>\n",
       "    <tr>\n",
       "      <th>51</th>\n",
       "      <td>6.4</td>\n",
       "      <td>3.2</td>\n",
       "      <td>4.5</td>\n",
       "      <td>1.5</td>\n",
       "      <td>1</td>\n",
       "    </tr>\n",
       "    <tr>\n",
       "      <th>52</th>\n",
       "      <td>6.9</td>\n",
       "      <td>3.1</td>\n",
       "      <td>4.9</td>\n",
       "      <td>1.5</td>\n",
       "      <td>1</td>\n",
       "    </tr>\n",
       "    <tr>\n",
       "      <th>53</th>\n",
       "      <td>5.5</td>\n",
       "      <td>2.3</td>\n",
       "      <td>4.0</td>\n",
       "      <td>1.3</td>\n",
       "      <td>1</td>\n",
       "    </tr>\n",
       "    <tr>\n",
       "      <th>54</th>\n",
       "      <td>6.5</td>\n",
       "      <td>2.8</td>\n",
       "      <td>4.6</td>\n",
       "      <td>1.5</td>\n",
       "      <td>1</td>\n",
       "    </tr>\n",
       "    <tr>\n",
       "      <th>...</th>\n",
       "      <td>...</td>\n",
       "      <td>...</td>\n",
       "      <td>...</td>\n",
       "      <td>...</td>\n",
       "      <td>...</td>\n",
       "    </tr>\n",
       "    <tr>\n",
       "      <th>145</th>\n",
       "      <td>6.7</td>\n",
       "      <td>3.0</td>\n",
       "      <td>5.2</td>\n",
       "      <td>2.3</td>\n",
       "      <td>2</td>\n",
       "    </tr>\n",
       "    <tr>\n",
       "      <th>146</th>\n",
       "      <td>6.3</td>\n",
       "      <td>2.5</td>\n",
       "      <td>5.0</td>\n",
       "      <td>1.9</td>\n",
       "      <td>2</td>\n",
       "    </tr>\n",
       "    <tr>\n",
       "      <th>147</th>\n",
       "      <td>6.5</td>\n",
       "      <td>3.0</td>\n",
       "      <td>5.2</td>\n",
       "      <td>2.0</td>\n",
       "      <td>2</td>\n",
       "    </tr>\n",
       "    <tr>\n",
       "      <th>148</th>\n",
       "      <td>6.2</td>\n",
       "      <td>3.4</td>\n",
       "      <td>5.4</td>\n",
       "      <td>2.3</td>\n",
       "      <td>2</td>\n",
       "    </tr>\n",
       "    <tr>\n",
       "      <th>149</th>\n",
       "      <td>5.9</td>\n",
       "      <td>3.0</td>\n",
       "      <td>5.1</td>\n",
       "      <td>1.8</td>\n",
       "      <td>2</td>\n",
       "    </tr>\n",
       "  </tbody>\n",
       "</table>\n",
       "<p>100 rows × 5 columns</p>\n",
       "</div>"
      ],
      "text/plain": [
       "     sepal length (cm)  sepal width (cm)  petal length (cm)  petal width (cm)  \\\n",
       "50                 7.0               3.2                4.7               1.4   \n",
       "51                 6.4               3.2                4.5               1.5   \n",
       "52                 6.9               3.1                4.9               1.5   \n",
       "53                 5.5               2.3                4.0               1.3   \n",
       "54                 6.5               2.8                4.6               1.5   \n",
       "..                 ...               ...                ...               ...   \n",
       "145                6.7               3.0                5.2               2.3   \n",
       "146                6.3               2.5                5.0               1.9   \n",
       "147                6.5               3.0                5.2               2.0   \n",
       "148                6.2               3.4                5.4               2.3   \n",
       "149                5.9               3.0                5.1               1.8   \n",
       "\n",
       "     target  \n",
       "50        1  \n",
       "51        1  \n",
       "52        1  \n",
       "53        1  \n",
       "54        1  \n",
       "..      ...  \n",
       "145       2  \n",
       "146       2  \n",
       "147       2  \n",
       "148       2  \n",
       "149       2  \n",
       "\n",
       "[100 rows x 5 columns]"
      ]
     },
     "execution_count": 6,
     "metadata": {},
     "output_type": "execute_result"
    }
   ],
   "source": [
    "data3"
   ]
  },
  {
   "cell_type": "code",
   "execution_count": 7,
   "id": "7144634c",
   "metadata": {},
   "outputs": [],
   "source": [
    "versicolor = data3[data3.target == 1]\n",
    "verginica =  data3[data3.target == 2]\n",
    "\n",
    "versicolor_train, versicolor_test, versicolor_target_train, versicolor_target_test = train_test_split(\n",
    "    versicolor[versicolor.columns[:-1]], versicolor[versicolor.columns[-1]], test_size=0.2, random_state=42)\n",
    "\n",
    "verginica_train, verginica_test, verginica_target_train, verginica_target_test = train_test_split(\n",
    "    verginica[verginica.columns[:-1]], verginica[versicolor.columns[-1]], test_size=0.2, random_state=42)"
   ]
  },
  {
   "cell_type": "markdown",
   "id": "826e1a3a",
   "metadata": {},
   "source": [
    "# Answer 3a "
   ]
  },
  {
   "cell_type": "code",
   "execution_count": 8,
   "id": "9d162d3d",
   "metadata": {},
   "outputs": [],
   "source": [
    "training_data_X = pd.concat([versicolor_train,verginica_train],ignore_index=True)\n",
    "testing_data_X = pd.concat([versicolor_test,verginica_test],ignore_index=True)\n",
    "\n",
    "training_data_y = pd.concat([versicolor_target_train,verginica_target_train],ignore_index=True)\n",
    "testing_data_y = pd.concat([versicolor_target_test,verginica_target_test],ignore_index=True)"
   ]
  },
  {
   "cell_type": "markdown",
   "id": "3ce71fb8",
   "metadata": {},
   "source": [
    "# Feature Scaling"
   ]
  },
  {
   "cell_type": "code",
   "execution_count": 9,
   "id": "bc46032e",
   "metadata": {},
   "outputs": [],
   "source": [
    "\n",
    "sc = StandardScaler()\n",
    "X_train = sc.fit_transform(training_data_X)\n",
    "X_test = sc.transform(testing_data_X)"
   ]
  },
  {
   "cell_type": "markdown",
   "id": "adbbd1ae",
   "metadata": {},
   "source": [
    "# Ans 3 b: different classification model"
   ]
  },
  {
   "cell_type": "code",
   "execution_count": 10,
   "id": "a504927d",
   "metadata": {},
   "outputs": [],
   "source": [
    "logistic_regression_classifier = LogisticRegression(random_state = 42)\n",
    "\n",
    "svm_linear_classifier = SVC(kernel = 'linear', random_state = 42)\n",
    "\n",
    "svm_poly_classifier = SVC(kernel = 'poly', random_state = 42)\n",
    "\n",
    "svm_rbf_classifier = SVC(kernel = 'rbf', random_state = 42)"
   ]
  },
  {
   "cell_type": "markdown",
   "id": "611d68ed",
   "metadata": {},
   "source": [
    "# Ans 3c: Confusion matrix and Accuracy for different models"
   ]
  },
  {
   "cell_type": "code",
   "execution_count": null,
   "id": "d598455c",
   "metadata": {},
   "outputs": [],
   "source": [
    "# Logistic Regression"
   ]
  },
  {
   "cell_type": "code",
   "execution_count": 19,
   "id": "7adecff3",
   "metadata": {},
   "outputs": [
    {
     "name": "stdout",
     "output_type": "stream",
     "text": [
      "confusion Matrix\n",
      "[[10  0]\n",
      " [ 0 10]]\n",
      "Accuracy\n",
      "1.0\n"
     ]
    }
   ],
   "source": [
    "logistic_regression_classifier.fit(X_train, training_data_y)\n",
    "y_pred_LR = logistic_regression_classifier.predict(X_test)\n",
    "print(\"confusion Matrix\")\n",
    "print(confusion_matrix(testing_data_y,y_pred_LR))\n",
    "print(\"Accuracy\")\n",
    "print(accuracy_score(testing_data_y, y_pred_LR))"
   ]
  },
  {
   "cell_type": "markdown",
   "id": "baf0a9a5",
   "metadata": {},
   "source": [
    "# Linear SVM"
   ]
  },
  {
   "cell_type": "code",
   "execution_count": 20,
   "id": "5d3d2fc2",
   "metadata": {},
   "outputs": [
    {
     "name": "stdout",
     "output_type": "stream",
     "text": [
      "confusion Matrix\n",
      "[[10  0]\n",
      " [ 0 10]]\n",
      "Accuracy\n",
      "1.0\n"
     ]
    }
   ],
   "source": [
    "svm_linear_classifier.fit(X_train, training_data_y)\n",
    "y_pred_linear_SVM = svm_linear_classifier.predict(X_test)\n",
    "print(\"confusion Matrix\")\n",
    "print(confusion_matrix(testing_data_y,y_pred_linear_SVM))\n",
    "print(\"Accuracy\")\n",
    "print(accuracy_score(testing_data_y, y_pred_linear_SVM))"
   ]
  },
  {
   "cell_type": "markdown",
   "id": "fe46e2d8",
   "metadata": {},
   "source": [
    "# poly SVM"
   ]
  },
  {
   "cell_type": "code",
   "execution_count": 21,
   "id": "f3497b05",
   "metadata": {},
   "outputs": [
    {
     "name": "stdout",
     "output_type": "stream",
     "text": [
      "confusion Matrix\n",
      "[[10  0]\n",
      " [ 2  8]]\n",
      "Accuracy\n",
      "0.9\n"
     ]
    }
   ],
   "source": [
    "svm_poly_classifier.fit(X_train, training_data_y)\n",
    "y_pred_poly_SVM = svm_poly_classifier.predict(X_test)\n",
    "print(\"confusion Matrix\")\n",
    "print(confusion_matrix(testing_data_y,y_pred_poly_SVM))\n",
    "print(\"Accuracy\")\n",
    "print(accuracy_score(testing_data_y, y_pred_poly_SVM))"
   ]
  },
  {
   "cell_type": "markdown",
   "id": "0c1e1e66",
   "metadata": {},
   "source": [
    "# RBF SVM"
   ]
  },
  {
   "cell_type": "code",
   "execution_count": 22,
   "id": "97d57424",
   "metadata": {},
   "outputs": [
    {
     "name": "stdout",
     "output_type": "stream",
     "text": [
      "confusion Matrix\n",
      "[[10  0]\n",
      " [ 1  9]]\n",
      "Accuracy\n",
      "0.95\n"
     ]
    }
   ],
   "source": [
    "svm_rbf_classifier.fit(X_train, training_data_y)\n",
    "y_pred_rbf_SVM = svm_rbf_classifier.predict(X_test)\n",
    "print(\"confusion Matrix\")\n",
    "print(confusion_matrix(testing_data_y,y_pred_rbf_SVM))\n",
    "print(\"Accuracy\")\n",
    "print(accuracy_score(testing_data_y, y_pred_rbf_SVM))"
   ]
  },
  {
   "cell_type": "code",
   "execution_count": null,
   "id": "2195336a",
   "metadata": {},
   "outputs": [],
   "source": []
  }
 ],
 "metadata": {
  "kernelspec": {
   "display_name": "Python 3 (ipykernel)",
   "language": "python",
   "name": "python3"
  },
  "language_info": {
   "codemirror_mode": {
    "name": "ipython",
    "version": 3
   },
   "file_extension": ".py",
   "mimetype": "text/x-python",
   "name": "python",
   "nbconvert_exporter": "python",
   "pygments_lexer": "ipython3",
   "version": "3.7.11"
  }
 },
 "nbformat": 4,
 "nbformat_minor": 5
}
